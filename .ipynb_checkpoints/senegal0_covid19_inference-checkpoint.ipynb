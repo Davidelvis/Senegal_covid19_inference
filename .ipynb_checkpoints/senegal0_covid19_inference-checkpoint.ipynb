{
 "cells": [
  {
   "cell_type": "markdown",
   "metadata": {
    "colab_type": "text",
    "id": "kOltUspIwH6j"
   },
   "source": [
    "# Change point analysis to quantify the impact of Senegal government policy interventions to slow the spread of COVID-19 ori#"
   ]
  },
  {
   "cell_type": "markdown",
   "metadata": {
    "colab_type": "text",
    "id": "QX1Zf6nZwgYk"
   },
   "source": [
    "## Business objective  \n",
    "\n",
    "\n",
    "The main business objective of this challenge is to quantify the statistical significance of a public health policy introduced by Senegal government to slow down the spread of COVID-19. \n"
   ]
  },
  {
   "cell_type": "markdown",
   "metadata": {
    "colab_type": "text",
    "id": "lJtpXx3XwvcP"
   },
   "source": [
    " ## Analysis Objectives\n",
    " * Understanding the model and data\n",
    " * Extending the model for African countries\n",
    " * Extracting statistically valid insights in relation to the  business objective"
   ]
  },
  {
   "cell_type": "markdown",
   "metadata": {
    "colab_type": "text",
    "id": "2q1opJo5w1PD"
   },
   "source": [
    "Skills\n",
    " * Statistical Modelling\n",
    " * Using PyMC3 - a standard Bayseian modelling package in Python\n",
    " * Working with remote data \n",
    " * Running and modifying a moderately large python package\n",
    "\n",
    "\n",
    "Knowledge\n",
    " * Probability distributions and choosing the relevant one for a given task\n",
    " * Bayesian inference\n",
    " * Monte Carlo Markov Chain\n",
    " * Model comparison \n",
    " * Policy analysis"
   ]
  },
  {
   "cell_type": "code",
   "execution_count": null,
   "metadata": {
    "colab": {},
    "colab_type": "code",
    "id": "xEXiJpOHyaK9"
   },
   "outputs": [],
   "source": [
    "#insatlling the covid19_inference from priesmann_group github\n",
    "!pip install git+https://github.com/Priesemann-Group/covid19_inference.git@v0.1.8"
   ]
  },
  {
   "cell_type": "code",
   "execution_count": null,
   "metadata": {
    "colab": {},
    "colab_type": "code",
    "id": "FwFBtOXw0bd_"
   },
   "outputs": [],
   "source": [
    "from google.colab import drive\n",
    "drive.mount('/content/drive')"
   ]
  },
  {
   "cell_type": "code",
   "execution_count": null,
   "metadata": {
    "colab": {
     "base_uri": "https://localhost:8080/",
     "height": 34
    },
    "colab_type": "code",
    "id": "U7RfsSji8aK3",
    "outputId": "77b940be-5bc3-4c98-ba8c-189c81ec6279"
   },
   "outputs": [
    {
     "name": "stdout",
     "output_type": "stream",
     "text": [
      "Running with PyMC3 version v.3.7\n"
     ]
    }
   ],
   "source": [
    "#The first thing we need to do is import some essential stuff. Theses have to be installed and are prerequisites.\n",
    "#!pip install theano\n",
    "#!pip install pymc3\n",
    "import datetime\n",
    "import time as time_module\n",
    "import sys\n",
    "import pandas as pd\n",
    "import numpy as np\n",
    "import matplotlib as mpl\n",
    "import matplotlib.pyplot as plt\n",
    "import theano\n",
    "import theano.tensor as tt\n",
    "import pymc3 as pm\n",
    "\n",
    "%matplotlib inline\n",
    "from collections import defaultdict\n",
    "import pymc3 as pm\n",
    "import scipy.stats as st\n",
    "\n",
    "plt.style.use('seaborn-darkgrid')\n",
    "print('Running with PyMC3 version v.{}'.format(pm.__version__)) # Printing the pymc3 version "
   ]
  },
  {
   "cell_type": "code",
   "execution_count": null,
   "metadata": {
    "colab": {},
    "colab_type": "code",
    "id": "VuckZm7ztW-C"
   },
   "outputs": [],
   "source": [
    "# Now to the fun stuff, we import the covid19 inference module\n",
    "try:\n",
    "    import covid19_inference as cov19\n",
    "except ModuleNotFoundError:\n",
    "    sys.path.append(\"../\")\n",
    "    import covid19_inference as cov19\n",
    " "
   ]
  },
  {
   "cell_type": "markdown",
   "metadata": {
    "colab_type": "text",
    "id": "XlkmdODQxokZ"
   },
   "source": [
    "##  Data retrieval\n",
    "There are multiple download sources which can be found [here](https://covid19-inference.readthedocs.io/en/latest/doc/data_retrieval.html).\n",
    " In this project we will load senegal covid-19 dataset from John Hopkins University"
   ]
  },
  {
   "cell_type": "code",
   "execution_count": null,
   "metadata": {
    "colab": {
     "base_uri": "https://localhost:8080/",
     "height": 70
    },
    "colab_type": "code",
    "id": "TA1F6Nnxtqbq",
    "outputId": "76f96b98-a8bb-45cf-ebc2-0ac183cdbebe"
   },
   "outputs": [
    {
     "name": "stderr",
     "output_type": "stream",
     "text": [
      "INFO     [covid19_inference.data_retrieval._JHU] Successfully downloaded new files.\n",
      "INFO     [covid19_inference.data_retrieval._JHU] Local backup to ['/tmp/covid19_data/Jhu_confirmed.csv.gz', '/tmp/covid19_data/Jhu_deaths.csv.gz', '/tmp/covid19_data/Jhu_recovered.csv.gz'] successful.\n"
     ]
    }
   ],
   "source": [
    "#Downloading the datasets, for confirmed,recovered, death cases in senegal\n",
    "jhu = cov19.data_retrieval.JHU()  \n",
    "jhu.download_all_available_data()\n",
    "confirmed = jhu.confirmed.Senegal\n",
    "recovered = jhu.recovered.Senegal\n",
    "died = jhu.deaths.Senegal\n"
   ]
  },
  {
   "cell_type": "markdown",
   "metadata": {
    "colab_type": "text",
    "id": "aBi919-Sx6Oh"
   },
   "source": [
    "## Data preprocessing"
   ]
  },
  {
   "cell_type": "code",
   "execution_count": null,
   "metadata": {
    "colab": {},
    "colab_type": "code",
    "id": "q1xHPxLutuFJ"
   },
   "outputs": [],
   "source": [
    "#column naming\n",
    "confirmed.columns=['confirmed_cases']"
   ]
  },
  {
   "cell_type": "code",
   "execution_count": null,
   "metadata": {
    "colab": {},
    "colab_type": "code",
    "id": "hf9Yos2MtyxB"
   },
   "outputs": [],
   "source": [
    "#column naming\n",
    "recovered.columns=['recovered_cases']"
   ]
  },
  {
   "cell_type": "code",
   "execution_count": null,
   "metadata": {
    "colab": {},
    "colab_type": "code",
    "id": "D9vA2sSkt1dw"
   },
   "outputs": [],
   "source": [
    "#column naming\n",
    "died.columns=['Dead_cases']"
   ]
  },
  {
   "cell_type": "code",
   "execution_count": null,
   "metadata": {
    "colab": {},
    "colab_type": "code",
    "id": "xH_M80wst3qF"
   },
   "outputs": [],
   "source": [
    "#merging the dataframes\n",
    "data = pd.concat([died,recovered,confirmed], axis=1)"
   ]
  },
  {
   "cell_type": "code",
   "execution_count": null,
   "metadata": {
    "colab": {},
    "colab_type": "code",
    "id": "mrQO9hlwt6hn"
   },
   "outputs": [],
   "source": [
    "#seting the index\n",
    "data.index.name = 'Dates'"
   ]
  },
  {
   "cell_type": "code",
   "execution_count": null,
   "metadata": {
    "colab": {
     "base_uri": "https://localhost:8080/",
     "height": 225
    },
    "colab_type": "code",
    "id": "9_EAuCYbt9HX",
    "outputId": "8579774b-1173-4b2f-a1f0-f1caafcc4433"
   },
   "outputs": [
    {
     "data": {
      "text/html": [
       "<div>\n",
       "<style scoped>\n",
       "    .dataframe tbody tr th:only-of-type {\n",
       "        vertical-align: middle;\n",
       "    }\n",
       "\n",
       "    .dataframe tbody tr th {\n",
       "        vertical-align: top;\n",
       "    }\n",
       "\n",
       "    .dataframe thead th {\n",
       "        text-align: right;\n",
       "    }\n",
       "</style>\n",
       "<table border=\"1\" class=\"dataframe\">\n",
       "  <thead>\n",
       "    <tr style=\"text-align: right;\">\n",
       "      <th></th>\n",
       "      <th>Dead_cases</th>\n",
       "      <th>recovered_cases</th>\n",
       "      <th>confirmed_cases</th>\n",
       "    </tr>\n",
       "    <tr>\n",
       "      <th>Dates</th>\n",
       "      <th></th>\n",
       "      <th></th>\n",
       "      <th></th>\n",
       "    </tr>\n",
       "  </thead>\n",
       "  <tbody>\n",
       "    <tr>\n",
       "      <th>2020-01-22</th>\n",
       "      <td>0</td>\n",
       "      <td>0</td>\n",
       "      <td>0</td>\n",
       "    </tr>\n",
       "    <tr>\n",
       "      <th>2020-01-23</th>\n",
       "      <td>0</td>\n",
       "      <td>0</td>\n",
       "      <td>0</td>\n",
       "    </tr>\n",
       "    <tr>\n",
       "      <th>2020-01-24</th>\n",
       "      <td>0</td>\n",
       "      <td>0</td>\n",
       "      <td>0</td>\n",
       "    </tr>\n",
       "    <tr>\n",
       "      <th>2020-01-25</th>\n",
       "      <td>0</td>\n",
       "      <td>0</td>\n",
       "      <td>0</td>\n",
       "    </tr>\n",
       "    <tr>\n",
       "      <th>2020-01-26</th>\n",
       "      <td>0</td>\n",
       "      <td>0</td>\n",
       "      <td>0</td>\n",
       "    </tr>\n",
       "  </tbody>\n",
       "</table>\n",
       "</div>"
      ],
      "text/plain": [
       "            Dead_cases  recovered_cases  confirmed_cases\n",
       "Dates                                                   \n",
       "2020-01-22           0                0                0\n",
       "2020-01-23           0                0                0\n",
       "2020-01-24           0                0                0\n",
       "2020-01-25           0                0                0\n",
       "2020-01-26           0                0                0"
      ]
     },
     "execution_count": 11,
     "metadata": {
      "tags": []
     },
     "output_type": "execute_result"
    }
   ],
   "source": [
    "#printing the first five rows of the data\n",
    "data.head()"
   ]
  },
  {
   "cell_type": "code",
   "execution_count": null,
   "metadata": {
    "colab": {},
    "colab_type": "code",
    "id": "BJLKRSYYt_nJ"
   },
   "outputs": [],
   "source": [
    "#preprocessing the data to get dataset when the number of cases is above 100 and dominated by community transmission\n",
    "data1=data[data['confirmed_cases']>100]"
   ]
  },
  {
   "cell_type": "code",
   "execution_count": null,
   "metadata": {
    "colab": {
     "base_uri": "https://localhost:8080/",
     "height": 225
    },
    "colab_type": "code",
    "id": "0xlNNP5CuClk",
    "outputId": "6fd50641-d292-4bec-d9cf-7ac0a8be850d"
   },
   "outputs": [
    {
     "data": {
      "text/html": [
       "<div>\n",
       "<style scoped>\n",
       "    .dataframe tbody tr th:only-of-type {\n",
       "        vertical-align: middle;\n",
       "    }\n",
       "\n",
       "    .dataframe tbody tr th {\n",
       "        vertical-align: top;\n",
       "    }\n",
       "\n",
       "    .dataframe thead th {\n",
       "        text-align: right;\n",
       "    }\n",
       "</style>\n",
       "<table border=\"1\" class=\"dataframe\">\n",
       "  <thead>\n",
       "    <tr style=\"text-align: right;\">\n",
       "      <th></th>\n",
       "      <th>Dead_cases</th>\n",
       "      <th>recovered_cases</th>\n",
       "      <th>confirmed_cases</th>\n",
       "    </tr>\n",
       "    <tr>\n",
       "      <th>Dates</th>\n",
       "      <th></th>\n",
       "      <th></th>\n",
       "      <th></th>\n",
       "    </tr>\n",
       "  </thead>\n",
       "  <tbody>\n",
       "    <tr>\n",
       "      <th>2020-03-26</th>\n",
       "      <td>0</td>\n",
       "      <td>9</td>\n",
       "      <td>105</td>\n",
       "    </tr>\n",
       "    <tr>\n",
       "      <th>2020-03-27</th>\n",
       "      <td>0</td>\n",
       "      <td>11</td>\n",
       "      <td>119</td>\n",
       "    </tr>\n",
       "    <tr>\n",
       "      <th>2020-03-28</th>\n",
       "      <td>0</td>\n",
       "      <td>18</td>\n",
       "      <td>130</td>\n",
       "    </tr>\n",
       "    <tr>\n",
       "      <th>2020-03-29</th>\n",
       "      <td>0</td>\n",
       "      <td>27</td>\n",
       "      <td>142</td>\n",
       "    </tr>\n",
       "    <tr>\n",
       "      <th>2020-03-30</th>\n",
       "      <td>0</td>\n",
       "      <td>27</td>\n",
       "      <td>162</td>\n",
       "    </tr>\n",
       "  </tbody>\n",
       "</table>\n",
       "</div>"
      ],
      "text/plain": [
       "            Dead_cases  recovered_cases  confirmed_cases\n",
       "Dates                                                   \n",
       "2020-03-26           0                9              105\n",
       "2020-03-27           0               11              119\n",
       "2020-03-28           0               18              130\n",
       "2020-03-29           0               27              142\n",
       "2020-03-30           0               27              162"
      ]
     },
     "execution_count": 13,
     "metadata": {
      "tags": []
     },
     "output_type": "execute_result"
    }
   ],
   "source": [
    "# printing the first five rows\n",
    "data1.head()"
   ]
  },
  {
   "cell_type": "code",
   "execution_count": null,
   "metadata": {
    "colab": {
     "base_uri": "https://localhost:8080/",
     "height": 34
    },
    "colab_type": "code",
    "id": "XFr05HJIuE_u",
    "outputId": "c972c238-15ad-4ffc-a883-5d8428140b5f"
   },
   "outputs": [
    {
     "data": {
      "text/plain": [
       "False"
      ]
     },
     "execution_count": 14,
     "metadata": {
      "tags": []
     },
     "output_type": "execute_result"
    }
   ],
   "source": [
    "#checking for null any null values in the dataset\n",
    "data1.isnull().values.any()"
   ]
  },
  {
   "cell_type": "code",
   "execution_count": null,
   "metadata": {
    "colab": {
     "base_uri": "https://localhost:8080/",
     "height": 84
    },
    "colab_type": "code",
    "id": "fWgJUk12uKuT",
    "outputId": "22313534-8e5a-4c82-99af-30697f440ea6"
   },
   "outputs": [
    {
     "data": {
      "text/plain": [
       "Dead_cases         False\n",
       "recovered_cases    False\n",
       "confirmed_cases    False\n",
       "dtype: bool"
      ]
     },
     "execution_count": 15,
     "metadata": {
      "tags": []
     },
     "output_type": "execute_result"
    }
   ],
   "source": [
    "#close check of values in the columns\n",
    "data1.isnull().all(axis=0)"
   ]
  },
  {
   "cell_type": "code",
   "execution_count": null,
   "metadata": {
    "colab": {
     "base_uri": "https://localhost:8080/",
     "height": 34
    },
    "colab_type": "code",
    "id": "x537EjmuuNsO",
    "outputId": "cb702396-3e86-42b4-87f1-39f596499bac"
   },
   "outputs": [
    {
     "data": {
      "text/plain": [
       "0"
      ]
     },
     "execution_count": 16,
     "metadata": {
      "tags": []
     },
     "output_type": "execute_result"
    }
   ],
   "source": [
    "#close check of null values in rows\n",
    "data1.isnull().any(axis=1).sum()"
   ]
  },
  {
   "cell_type": "code",
   "execution_count": null,
   "metadata": {
    "colab": {},
    "colab_type": "code",
    "id": "tbCP6e1kuQdO"
   },
   "outputs": [],
   "source": [
    "#splitting the data into training dataset and validation dataset\n",
    "split_date ='2020-07-25'\n",
    "data1_training = data1.loc[data1.index <= split_date]\n",
    "data1_validation = data1.loc[data1.index >= split_date]"
   ]
  },
  {
   "cell_type": "code",
   "execution_count": null,
   "metadata": {
    "colab": {
     "base_uri": "https://localhost:8080/",
     "height": 225
    },
    "colab_type": "code",
    "id": "hAc6LSJCuTxD",
    "outputId": "5d6e5fd5-170a-49c2-cc78-55a47ddf6191"
   },
   "outputs": [
    {
     "data": {
      "text/html": [
       "<div>\n",
       "<style scoped>\n",
       "    .dataframe tbody tr th:only-of-type {\n",
       "        vertical-align: middle;\n",
       "    }\n",
       "\n",
       "    .dataframe tbody tr th {\n",
       "        vertical-align: top;\n",
       "    }\n",
       "\n",
       "    .dataframe thead th {\n",
       "        text-align: right;\n",
       "    }\n",
       "</style>\n",
       "<table border=\"1\" class=\"dataframe\">\n",
       "  <thead>\n",
       "    <tr style=\"text-align: right;\">\n",
       "      <th></th>\n",
       "      <th>Dead_cases</th>\n",
       "      <th>recovered_cases</th>\n",
       "      <th>confirmed_cases</th>\n",
       "    </tr>\n",
       "    <tr>\n",
       "      <th>Dates</th>\n",
       "      <th></th>\n",
       "      <th></th>\n",
       "      <th></th>\n",
       "    </tr>\n",
       "  </thead>\n",
       "  <tbody>\n",
       "    <tr>\n",
       "      <th>2020-03-26</th>\n",
       "      <td>0</td>\n",
       "      <td>9</td>\n",
       "      <td>105</td>\n",
       "    </tr>\n",
       "    <tr>\n",
       "      <th>2020-03-27</th>\n",
       "      <td>0</td>\n",
       "      <td>11</td>\n",
       "      <td>119</td>\n",
       "    </tr>\n",
       "    <tr>\n",
       "      <th>2020-03-28</th>\n",
       "      <td>0</td>\n",
       "      <td>18</td>\n",
       "      <td>130</td>\n",
       "    </tr>\n",
       "    <tr>\n",
       "      <th>2020-03-29</th>\n",
       "      <td>0</td>\n",
       "      <td>27</td>\n",
       "      <td>142</td>\n",
       "    </tr>\n",
       "    <tr>\n",
       "      <th>2020-03-30</th>\n",
       "      <td>0</td>\n",
       "      <td>27</td>\n",
       "      <td>162</td>\n",
       "    </tr>\n",
       "  </tbody>\n",
       "</table>\n",
       "</div>"
      ],
      "text/plain": [
       "            Dead_cases  recovered_cases  confirmed_cases\n",
       "Dates                                                   \n",
       "2020-03-26           0                9              105\n",
       "2020-03-27           0               11              119\n",
       "2020-03-28           0               18              130\n",
       "2020-03-29           0               27              142\n",
       "2020-03-30           0               27              162"
      ]
     },
     "execution_count": 18,
     "metadata": {
      "tags": []
     },
     "output_type": "execute_result"
    }
   ],
   "source": [
    "#viewing the training dataset\n",
    "data1_training.head()"
   ]
  },
  {
   "cell_type": "code",
   "execution_count": null,
   "metadata": {
    "colab": {},
    "colab_type": "code",
    "id": "8lWynhmnuWsB"
   },
   "outputs": [],
   "source": [
    "#getting the confirmed cases from training dataset\n",
    "train=[data1_training['confirmed_cases']]\n"
   ]
  },
  {
   "cell_type": "code",
   "execution_count": null,
   "metadata": {
    "colab": {},
    "colab_type": "code",
    "id": "KGzUnBc5uZta"
   },
   "outputs": [],
   "source": [
    "train_dataset=pd.DataFrame(train)"
   ]
  },
  {
   "cell_type": "code",
   "execution_count": null,
   "metadata": {
    "colab": {},
    "colab_type": "code",
    "id": "6LMhTx6EudD_"
   },
   "outputs": [],
   "source": [
    "table = train_dataset.T"
   ]
  },
  {
   "cell_type": "code",
   "execution_count": null,
   "metadata": {
    "colab": {
     "base_uri": "https://localhost:8080/",
     "height": 225
    },
    "colab_type": "code",
    "id": "3TDxEj-sug3j",
    "outputId": "9a93eacb-5b87-4e65-caf8-4bd6304df37c"
   },
   "outputs": [
    {
     "data": {
      "text/html": [
       "<div>\n",
       "<style scoped>\n",
       "    .dataframe tbody tr th:only-of-type {\n",
       "        vertical-align: middle;\n",
       "    }\n",
       "\n",
       "    .dataframe tbody tr th {\n",
       "        vertical-align: top;\n",
       "    }\n",
       "\n",
       "    .dataframe thead th {\n",
       "        text-align: right;\n",
       "    }\n",
       "</style>\n",
       "<table border=\"1\" class=\"dataframe\">\n",
       "  <thead>\n",
       "    <tr style=\"text-align: right;\">\n",
       "      <th></th>\n",
       "      <th>confirmed_cases</th>\n",
       "    </tr>\n",
       "    <tr>\n",
       "      <th>Dates</th>\n",
       "      <th></th>\n",
       "    </tr>\n",
       "  </thead>\n",
       "  <tbody>\n",
       "    <tr>\n",
       "      <th>2020-03-26</th>\n",
       "      <td>105</td>\n",
       "    </tr>\n",
       "    <tr>\n",
       "      <th>2020-03-27</th>\n",
       "      <td>119</td>\n",
       "    </tr>\n",
       "    <tr>\n",
       "      <th>2020-03-28</th>\n",
       "      <td>130</td>\n",
       "    </tr>\n",
       "    <tr>\n",
       "      <th>2020-03-29</th>\n",
       "      <td>142</td>\n",
       "    </tr>\n",
       "    <tr>\n",
       "      <th>2020-03-30</th>\n",
       "      <td>162</td>\n",
       "    </tr>\n",
       "  </tbody>\n",
       "</table>\n",
       "</div>"
      ],
      "text/plain": [
       "            confirmed_cases\n",
       "Dates                      \n",
       "2020-03-26              105\n",
       "2020-03-27              119\n",
       "2020-03-28              130\n",
       "2020-03-29              142\n",
       "2020-03-30              162"
      ]
     },
     "execution_count": 22,
     "metadata": {
      "tags": []
     },
     "output_type": "execute_result"
    }
   ],
   "source": [
    "table.head()"
   ]
  },
  {
   "cell_type": "code",
   "execution_count": null,
   "metadata": {
    "colab": {
     "base_uri": "https://localhost:8080/",
     "height": 225
    },
    "colab_type": "code",
    "id": "ZrU6wY57ujwh",
    "outputId": "f0e13275-7307-4166-bbe3-2ae95efa63e8"
   },
   "outputs": [
    {
     "data": {
      "text/html": [
       "<div>\n",
       "<style scoped>\n",
       "    .dataframe tbody tr th:only-of-type {\n",
       "        vertical-align: middle;\n",
       "    }\n",
       "\n",
       "    .dataframe tbody tr th {\n",
       "        vertical-align: top;\n",
       "    }\n",
       "\n",
       "    .dataframe thead th {\n",
       "        text-align: right;\n",
       "    }\n",
       "</style>\n",
       "<table border=\"1\" class=\"dataframe\">\n",
       "  <thead>\n",
       "    <tr style=\"text-align: right;\">\n",
       "      <th></th>\n",
       "      <th>Dead_cases</th>\n",
       "      <th>recovered_cases</th>\n",
       "      <th>confirmed_cases</th>\n",
       "    </tr>\n",
       "    <tr>\n",
       "      <th>Dates</th>\n",
       "      <th></th>\n",
       "      <th></th>\n",
       "      <th></th>\n",
       "    </tr>\n",
       "  </thead>\n",
       "  <tbody>\n",
       "    <tr>\n",
       "      <th>2020-07-25</th>\n",
       "      <td>187</td>\n",
       "      <td>6364</td>\n",
       "      <td>9552</td>\n",
       "    </tr>\n",
       "    <tr>\n",
       "      <th>2020-07-26</th>\n",
       "      <td>191</td>\n",
       "      <td>6409</td>\n",
       "      <td>9681</td>\n",
       "    </tr>\n",
       "    <tr>\n",
       "      <th>2020-07-27</th>\n",
       "      <td>194</td>\n",
       "      <td>6477</td>\n",
       "      <td>9764</td>\n",
       "    </tr>\n",
       "    <tr>\n",
       "      <th>2020-07-28</th>\n",
       "      <td>198</td>\n",
       "      <td>6591</td>\n",
       "      <td>9805</td>\n",
       "    </tr>\n",
       "    <tr>\n",
       "      <th>2020-07-29</th>\n",
       "      <td>200</td>\n",
       "      <td>6655</td>\n",
       "      <td>9961</td>\n",
       "    </tr>\n",
       "  </tbody>\n",
       "</table>\n",
       "</div>"
      ],
      "text/plain": [
       "            Dead_cases  recovered_cases  confirmed_cases\n",
       "Dates                                                   \n",
       "2020-07-25         187             6364             9552\n",
       "2020-07-26         191             6409             9681\n",
       "2020-07-27         194             6477             9764\n",
       "2020-07-28         198             6591             9805\n",
       "2020-07-29         200             6655             9961"
      ]
     },
     "execution_count": 23,
     "metadata": {
      "tags": []
     },
     "output_type": "execute_result"
    }
   ],
   "source": [
    "#First five values of validation dataset\n",
    "data1_validation.head()"
   ]
  },
  {
   "cell_type": "code",
   "execution_count": null,
   "metadata": {
    "colab": {},
    "colab_type": "code",
    "id": "4DOOoDbLus7q"
   },
   "outputs": [],
   "source": [
    "\n",
    "\n",
    "bd = datetime.datetime(2020, 3, 26)  # For the date filter\n",
    "ed = datetime.datetime(2020,7,25)\n",
    "\n",
    "total_cases_obs = jhu.get_total(\n",
    "    value=\"confirmed\", country=\"Senegal\", data_begin=bd, data_end=ed\n",
    ")\n",
    "new_cases_obs = jhu.get_new(\n",
    "    value=\"confirmed\", country=\"Senegal\", data_begin=bd, data_end=ed\n",
    ")\n",
    "\n",
    "\n"
   ]
  },
  {
   "cell_type": "markdown",
   "metadata": {
    "colab_type": "text",
    "id": "52-UsLefyl-h"
   },
   "source": [
    "## POSTERIOR PREDICTIVE CHECKS"
   ]
  },
  {
   "cell_type": "markdown",
   "metadata": {
    "colab_type": "text",
    "id": "Yppxp6HByr4w"
   },
   "source": [
    "Posterior predictive checks (PPCs) are a great way to validate a model. The idea is to generate data from the model using parameters from draws from the posterior.\n",
    "PPCs analyze the degree to which data generated from the model deviate from data generated from the true distribution."
   ]
  },
  {
   "cell_type": "code",
   "execution_count": null,
   "metadata": {
    "colab": {
     "base_uri": "https://localhost:8080/",
     "height": 52
    },
    "colab_type": "code",
    "id": "Ws0F_g9nuxVV",
    "outputId": "dace3ef3-094f-4b79-d09c-34ff84d7e345"
   },
   "outputs": [
    {
     "data": {
      "application/vnd.google.colaboratory.intrinsic+json": {
       "type": "string"
      },
      "text/plain": [
       "\"#Generating a simple model and train the model\\nwith pm.Model() as model:\\n    mu = pm.LogNormal('mu',mu=np.log(1 / 8),  sigma=0.2, testval=0)\\n    sd = pm.HalfNormal('sd', sigma=0.2)\\n    n = pm.LogNormal('n', sigma=sd, observed=data3)\\n\\n    trace = pm.sample(2000)\""
      ]
     },
     "execution_count": 25,
     "metadata": {
      "tags": []
     },
     "output_type": "execute_result"
    }
   ],
   "source": [
    "'''#Generating a simple model and train the model\n",
    "with pm.Model() as model:\n",
    "    mu = pm.LogNormal('mu',mu=np.log(1 / 8),  sigma=0.2, testval=0)\n",
    "    sd = pm.HalfNormal('sd', sigma=0.2)\n",
    "    n = pm.LogNormal('n', sigma=sd, observed=data3)\n",
    "\n",
    "    trace = pm.sample(2000)'''"
   ]
  },
  {
   "cell_type": "markdown",
   "metadata": {
    "colab_type": "text",
    "id": "_UYFXaizzuVL"
   },
   "source": [
    "## Change points for public interventions\n",
    "To simulate the effect of different interventions put in place in Senegal, we model three interventions as change points as the spreading rate.\n",
    "We model three public interventions which are potential scenarios for public behaviour\n",
    "  * 15th March 2020 - Religious activities and gatherings stopped; mild social distancing\n",
    "  * 23th March 2020 - Social distancing\n",
    "  * 31rd March 2020 - Strong social distancing"
   ]
  },
  {
   "cell_type": "code",
   "execution_count": null,
   "metadata": {
    "colab": {},
    "colab_type": "code",
    "id": "It5wmZHEu2JX"
   },
   "outputs": [],
   "source": [
    "\"\"\"\n",
    "    First we need to set the priors for the change points and other configs.\n",
    "\"\"\"\n",
    "\n",
    "diff_data_sim = 16  # should be significantly larger than the expected delay, in\n",
    "# order to always fit the same number of data points.\n",
    "num_days_forecast = 10\n",
    "\n",
    "# We set the priors for the changepoints here\n",
    "prior_date_mild_dist_begin = datetime.datetime(2020, 3, 15)\n",
    "prior_date_strong_dist_begin = datetime.datetime(2020, 3, 23)\n",
    "prior_date_contact_ban_begin = datetime.datetime(2020, 3, 31)\n",
    "\n",
    "change_points = [\n",
    "    dict(\n",
    "        pr_mean_date_transient=prior_date_mild_dist_begin,\n",
    "        pr_sigma_date_transient=3,\n",
    "        pr_median_lambda=0.2,\n",
    "        pr_sigma_lambda=1,\n",
    "    ),\n",
    "    dict(\n",
    "        pr_mean_date_transient=prior_date_strong_dist_begin,\n",
    "        pr_sigma_date_transient=1.5,\n",
    "        pr_median_lambda=1 / 8,\n",
    "        pr_sigma_lambda=1,\n",
    "    ),\n",
    "    dict(\n",
    "        pr_mean_date_transient=prior_date_contact_ban_begin,\n",
    "        pr_sigma_date_transient=1.5,\n",
    "        pr_median_lambda=1 / 8 / 2,\n",
    "        pr_sigma_lambda=1,\n",
    "    ),\n",
    "]\n"
   ]
  },
  {
   "cell_type": "code",
   "execution_count": null,
   "metadata": {
    "colab": {},
    "colab_type": "code",
    "id": "erpBBzWfu_VI"
   },
   "outputs": [],
   "source": [
    "  # limit the data range\n",
    "bd = datetime.datetime(2020, 3, 26)\n",
    "\n",
    "# download data\n",
    "#jhu = cov19.data_retrieval.JHU(auto_download=True)\n",
    "#new_cases = jhu.get_new(country=\"Senegal\", data_begin=bd)"
   ]
  },
  {
   "cell_type": "code",
   "execution_count": null,
   "metadata": {
    "colab": {},
    "colab_type": "code",
    "id": "2rHmAbJTvHce"
   },
   "outputs": [],
   "source": [
    "\"\"\"\n",
    "    Next, we create the model! There are default values for most of the function arguments,\n",
    "    but we will try to explicitly set all kwargs for the sake of this example.\n",
    "\"\"\"\n",
    "params_model = dict(\n",
    "    new_cases_obs=new_cases_obs[:],\n",
    "    data_begin=bd,\n",
    "    fcast_len=num_days_forecast,\n",
    "    diff_data_sim=diff_data_sim,\n",
    "    N_population=16e6,\n",
    ")\n",
    "# Median of the prior for the delay in case reporting, we assume 10 days\n",
    "pr_delay = 10\n"
   ]
  },
  {
   "cell_type": "code",
   "execution_count": null,
   "metadata": {
    "colab": {
     "base_uri": "https://localhost:8080/",
     "height": 302
    },
    "colab_type": "code",
    "id": "Uw1KfoVRvNfJ",
    "outputId": "fecca451-32e1-404b-d40e-cee88684405a"
   },
   "outputs": [
    {
     "name": "stderr",
     "output_type": "stream",
     "text": [
      "INFO     [covid19_inference.model.spreading_rate] Lambda_t with sigmoids\n",
      "INFO     [covid19_inference.model.model] pr_median_transient_len was set to default value 4\n",
      "INFO     [covid19_inference.model.model] pr_sigma_transient_len was set to default value 0.5\n",
      "INFO     [covid19_inference.model.model] relative_to_previous was set to default value False\n",
      "INFO     [covid19_inference.model.model] pr_factor_to_previous was set to default value 1\n",
      "INFO     [covid19_inference.model.model] pr_median_transient_len was set to default value 4\n",
      "INFO     [covid19_inference.model.model] pr_sigma_transient_len was set to default value 0.5\n",
      "INFO     [covid19_inference.model.model] relative_to_previous was set to default value False\n",
      "INFO     [covid19_inference.model.model] pr_factor_to_previous was set to default value 1\n",
      "INFO     [covid19_inference.model.model] pr_median_transient_len was set to default value 4\n",
      "INFO     [covid19_inference.model.model] pr_sigma_transient_len was set to default value 0.5\n",
      "INFO     [covid19_inference.model.model] relative_to_previous was set to default value False\n",
      "INFO     [covid19_inference.model.model] pr_factor_to_previous was set to default value 1\n",
      "INFO     [covid19_inference.model.compartmental_models] Uncorrelated prior_I\n",
      "INFO     [covid19_inference.model.compartmental_models] SIR\n",
      "INFO     [covid19_inference.model.delay] Delaying cases\n",
      "INFO     [covid19_inference.model.week_modulation] Week modulation\n"
     ]
    }
   ],
   "source": [
    "\"\"\"\n",
    "    The model is specified in a context. Each function in this context\n",
    "    has access to the model parameters set.\n",
    "\"\"\"\n",
    "with cov19.model.Cov19Model(**params_model) as this_model:\n",
    "                            #Create the an array of the time dependent infection rate lambda\n",
    "    lambda_t_log = cov19.model.lambda_t_with_sigmoids(\n",
    "        pr_median_lambda_0=0.4,\n",
    "        pr_sigma_lambda_0=0.5,\n",
    "        change_points_list=change_points,  # The change point priors we constructed earlier\n",
    "        name_lambda_t=\"lambda_t\",  # Name for the variable in the trace (see later)\n",
    ")\n",
    "\n",
    "    # set prior distribution for the recovery rate\n",
    "    mu = pm.Lognormal(name=\"mu\", mu=np.log(1 / 8), sigma=0.2)\n",
    "\n",
    "    # This builds a decorrelated prior for I_begin for faster inference.\n",
    "    # It is not necessary to use it, one can simply remove it and use the default argument\n",
    "    # for pr_I_begin in cov19.SIR\n",
    "    prior_I = cov19.model.uncorrelated_prior_I(\n",
    "        lambda_t_log=lambda_t_log,\n",
    "        mu=mu,\n",
    "        pr_median_delay=pr_delay,\n",
    "        name_I_begin=\"I_begin\",\n",
    "        name_I_begin_ratio_log=\"I_begin_ratio_log\",\n",
    "        pr_sigma_I_begin=2,\n",
    "        n_data_points_used=5,\n",
    "    )\n",
    "\n",
    "    # Use lambda_t_log and mu to run the SIR model\n",
    "    new_cases = cov19.model.SIR(\n",
    "        lambda_t_log=lambda_t_log,\n",
    "        mu=mu,\n",
    "        name_new_I_t=\"new_I_t\",\n",
    "        name_I_t=\"I_t\",\n",
    "        name_I_begin=\"I_begin\",\n",
    "        pr_I_begin=prior_I,\n",
    "    )\n",
    "\n",
    "    # Delay the cases by a lognormal reporting delay\n",
    "    new_cases = cov19.model.delay_cases(\n",
    "        cases=new_cases,\n",
    "        name_cases=\"delayed_cases\",\n",
    "        name_delay=\"delay\",\n",
    "        name_width=\"delay-width\",\n",
    "        pr_mean_of_median=pr_delay,\n",
    "        pr_sigma_of_median=0.2,\n",
    "        pr_median_of_width=0.3,\n",
    "    )\n",
    "\n",
    "    # Modulate the inferred cases by a abs(sin(x)) function, to account for weekend effects\n",
    "    # Also adds the \"new_cases\" variable to the trace that has all model features.\n",
    "    new_cases = cov19.model.week_modulation(\n",
    "        cases=new_cases,\n",
    "        name_cases=\"new_cases\",\n",
    "        name_weekend_factor=\"weekend_factor\",\n",
    "        name_offset_modulation=\"offset_modulation\",\n",
    "        week_modulation_type=\"abs_sine\",\n",
    "        pr_mean_weekend_factor=0.3,\n",
    "        pr_sigma_weekend_factor=0.5,\n",
    "        weekend_days=(6, 7),\n",
    "    )\n",
    "\n",
    "    # Define the likelihood, uses the new_cases_obs set as model parameter\n",
    "    cov19.model.student_t_likelihood(new_cases)"
   ]
  },
  {
   "cell_type": "code",
   "execution_count": null,
   "metadata": {
    "colab": {
     "base_uri": "https://localhost:8080/",
     "height": 390
    },
    "colab_type": "code",
    "id": "vVSR4-Yjvd4V",
    "outputId": "8b0253e3-698f-444f-c2c1-4f32a36c409f"
   },
   "outputs": [
    {
     "name": "stderr",
     "output_type": "stream",
     "text": [
      "Only 100 samples in chain.\n",
      "WARNING  [pymc3] Only 100 samples in chain.\n",
      "Auto-assigning NUTS sampler...\n",
      "INFO     [pymc3] Auto-assigning NUTS sampler...\n",
      "Initializing NUTS using jitter+adapt_diag...\n",
      "INFO     [pymc3] Initializing NUTS using jitter+adapt_diag...\n",
      "Multiprocess sampling (3 chains in 3 jobs)\n",
      "INFO     [pymc3] Multiprocess sampling (3 chains in 3 jobs)\n",
      "NUTS: [sigma_obs, offset_modulation_rad, weekend_factor_log, delay_log, I_begin_ratio_log, mu, transient_len_3_log_, transient_len_2_log_, transient_len_1_log_, transient_day_3, transient_day_2, transient_day_1, lambda_3_log_, lambda_2_log_, lambda_1_log_, lambda_0_log_]\n",
      "INFO     [pymc3] NUTS: [sigma_obs, offset_modulation_rad, weekend_factor_log, delay_log, I_begin_ratio_log, mu, transient_len_3_log_, transient_len_2_log_, transient_len_1_log_, transient_day_3, transient_day_2, transient_day_1, lambda_3_log_, lambda_2_log_, lambda_1_log_, lambda_0_log_]\n",
      "Sampling 3 chains: 100%|██████████| 450/450 [1:19:41<00:00, 10.62s/draws]\n",
      "The acceptance probability does not match the target. It is 0.6976876354123523, but should be close to 0.9. Try to increase the number of tuning steps.\n",
      "WARNING  [pymc3] The acceptance probability does not match the target. It is 0.6976876354123523, but should be close to 0.9. Try to increase the number of tuning steps.\n",
      "The acceptance probability does not match the target. It is 0.9705263808555977, but should be close to 0.9. Try to increase the number of tuning steps.\n",
      "WARNING  [pymc3] The acceptance probability does not match the target. It is 0.9705263808555977, but should be close to 0.9. Try to increase the number of tuning steps.\n",
      "The acceptance probability does not match the target. It is 0.9687852623714375, but should be close to 0.9. Try to increase the number of tuning steps.\n",
      "WARNING  [pymc3] The acceptance probability does not match the target. It is 0.9687852623714375, but should be close to 0.9. Try to increase the number of tuning steps.\n",
      "The gelman-rubin statistic is larger than 1.4 for some parameters. The sampler did not converge.\n",
      "ERROR    [pymc3] The gelman-rubin statistic is larger than 1.4 for some parameters. The sampler did not converge.\n",
      "The number of effective samples is smaller than 10% for some parameters.\n",
      "WARNING  [pymc3] The number of effective samples is smaller than 10% for some parameters.\n"
     ]
    }
   ],
   "source": [
    "trace = pm.sample(model=this_model, tune=50, draws=100,cores=32,nuts_kwargs={\"target_accept\":0.9,\"max_treedepth\": 15})"
   ]
  },
  {
   "cell_type": "markdown",
   "metadata": {
    "colab_type": "text",
    "id": "VXJFNJt90QYQ"
   },
   "source": [
    "## PLOTTING"
   ]
  },
  {
   "cell_type": "code",
   "execution_count": null,
   "metadata": {
    "colab": {},
    "colab_type": "code",
    "id": "Kk4TMuXDPjRc"
   },
   "outputs": [],
   "source": []
  },
  {
   "cell_type": "code",
   "execution_count": null,
   "metadata": {
    "colab": {},
    "colab_type": "code",
    "id": "9D58UizAaPgI"
   },
   "outputs": [],
   "source": [
    "fig, axes = plt.subplots(6, 3, figsize=(8, 8.4))\n",
    "\n",
    "# Get the free Random Variables\n",
    "varnames = this_model.untransformed_freeRVs\n",
    "print(varnames)\n",
    "\n",
    "# Plot them\n",
    "for i, key in enumerate(\n",
    "    # left column\n",
    "    [\"weekend_factor\", \"mu\", \"lambda_0\", \"lambda_1\", \"lambda_2\", \"lambda_3\"]\n",
    "):\n",
    "    cov19.plot._distribution(this_model, trace, key, ax=axes[i, 0])\n",
    "\n",
    "for i, key in enumerate(\n",
    "    # mid column\n",
    "    [\n",
    "        \"offset_modulation\",\n",
    "        \"sigma_obs\",\n",
    "        \"I_begin\",\n",
    "        \"transient_day_1\",\n",
    "        \"transient_day_2\",\n",
    "        \"transient_day_3\",\n",
    "    ]\n",
    "):\n",
    "    cov19.plot._distribution(this_model, trace, key, ax=axes[i, 1])\n",
    "\n",
    "for i, key in enumerate(\n",
    "    # right column\n",
    "    [\"delay\", \"transient_len_1\", \"transient_len_2\", \"transient_len_3\",]\n",
    "):\n",
    "    cov19.plot._distribution(this_model, trace, key, ax=axes[i + 2, 2])\n",
    "\n",
    "\n"
   ]
  },
  {
   "cell_type": "code",
   "execution_count": null,
   "metadata": {
    "colab": {
     "base_uri": "https://localhost:8080/",
     "height": 614
    },
    "colab_type": "code",
    "id": "9xaY5xoBbLP4",
    "outputId": "5a5ca975-ff91-4a8e-8d21-90b2dca25e32"
   },
   "outputs": [
    {
     "data": {
      "image/png": "[encoded data removed]",
      "text/plain": [
       "<Figure size 576x604.8 with 18 Axes>"
      ]
     },
     "execution_count": 43,
     "metadata": {
      "tags": []
     },
     "output_type": "execute_result"
    }
   ],
   "source": [
    "fig.tight_layout()\n",
    "fig  # To print in jupyter notebook\n"
   ]
  },
  {
   "cell_type": "code",
   "execution_count": null,
   "metadata": {
    "colab": {
     "base_uri": "https://localhost:8080/",
     "height": 492
    },
    "colab_type": "code",
    "id": "nqbSBuYxQ86D",
    "outputId": "3b903edd-c0ba-41a4-fe4d-e70cc2b6848f"
   },
   "outputs": [
    {
     "data": {
      "image/png": "[encoded data removed]",
      "text/plain": [
       "<Figure size 432x432 with 3 Axes>"
      ]
     },
     "metadata": {
      "tags": []
     },
     "output_type": "display_data"
    }
   ],
   "source": [
    "\"\"\"### Timeseries\n",
    "    timeseries overview, for now needs an offset variable to get cumulative cases\n",
    "\"\"\"\n",
    "fig, axes = cov19.plot.timeseries_overview(this_model, trace, offset=-3000)\n"
   ]
  },
  {
   "cell_type": "code",
   "execution_count": null,
   "metadata": {
    "colab": {},
    "colab_type": "code",
    "id": "xflnzXnQbf-E"
   },
   "outputs": [],
   "source": []
  }
 ],
 "metadata": {
  "accelerator": "TPU",
  "colab": {
   "collapsed_sections": [
    "52-UsLefyl-h",
    "VXJFNJt90QYQ"
   ],
   "name": " senegal0_covid19_inference.ipynb",
   "provenance": []
  },
  "kernelspec": {
   "display_name": "Python 3",
   "language": "python",
   "name": "python3"
  },
  "language_info": {
   "codemirror_mode": {
    "name": "ipython",
    "version": 3
   },
   "file_extension": ".py",
   "mimetype": "text/x-python",
   "name": "python",
   "nbconvert_exporter": "python",
   "pygments_lexer": "ipython3",
   "version": "3.7.3"
  }
 },
 "nbformat": 4,
 "nbformat_minor": 1
}
